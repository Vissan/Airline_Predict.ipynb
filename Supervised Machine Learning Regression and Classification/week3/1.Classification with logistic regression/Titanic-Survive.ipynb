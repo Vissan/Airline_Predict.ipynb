{
 "cells": [
  {
   "cell_type": "code",
   "execution_count": 1,
   "metadata": {
    "collapsed": false,
    "execution": {
     "iopub.execute_input": "2023-10-11T06:23:38.119481Z",
     "iopub.status.busy": "2023-10-11T06:23:38.118615Z",
     "iopub.status.idle": "2023-10-11T06:23:38.428064Z",
     "shell.execute_reply": "2023-10-11T06:23:38.426944Z",
     "shell.execute_reply.started": "2023-10-11T06:23:38.119447Z"
    },
    "jupyter": {
     "outputs_hidden": false
    },
    "scrolled": true
   },
   "outputs": [
    {
     "name": "stdout",
     "output_type": "stream",
     "text": [
      "data242605\r\n"
     ]
    }
   ],
   "source": [
    "# 查看当前挂载的数据集目录, 该目录下的变更重启环境后会自动还原\n",
    "# View dataset directory. \n",
    "# This directory will be recovered automatically after resetting environment. \n",
    "!ls /home/aistudio/data"
   ]
  },
  {
   "cell_type": "code",
   "execution_count": 2,
   "metadata": {
    "collapsed": false,
    "execution": {
     "iopub.execute_input": "2023-10-11T06:23:38.430512Z",
     "iopub.status.busy": "2023-10-11T06:23:38.430015Z",
     "iopub.status.idle": "2023-10-11T06:23:38.702728Z",
     "shell.execute_reply": "2023-10-11T06:23:38.701495Z",
     "shell.execute_reply.started": "2023-10-11T06:23:38.430484Z"
    },
    "jupyter": {
     "outputs_hidden": false
    },
    "scrolled": true
   },
   "outputs": [],
   "source": [
    "# 查看工作区文件, 该目录下的变更将会持久保存. 请及时清理不必要的文件, 避免加载过慢.\n",
    "# View personal work directory. \n",
    "# All changes under this directory will be kept even after reset. \n",
    "# Please clean unnecessary files in time to speed up environment loading. \n",
    "!ls /home/aistudio/work"
   ]
  },
  {
   "cell_type": "code",
   "execution_count": 3,
   "metadata": {
    "collapsed": false,
    "execution": {
     "iopub.execute_input": "2023-10-11T06:23:38.704398Z",
     "iopub.status.busy": "2023-10-11T06:23:38.704063Z",
     "iopub.status.idle": "2023-10-11T06:23:41.627487Z",
     "shell.execute_reply": "2023-10-11T06:23:41.626346Z",
     "shell.execute_reply.started": "2023-10-11T06:23:38.704371Z"
    },
    "jupyter": {
     "outputs_hidden": false
    },
    "scrolled": true
   },
   "outputs": [
    {
     "name": "stdout",
     "output_type": "stream",
     "text": [
      "mkdir: cannot create directory '/home/aistudio/external-libraries': File exists\r\n",
      "Looking in indexes: https://mirror.baidu.com/pypi/simple/, https://mirrors.aliyun.com/pypi/simple/, https://pypi.tuna.tsinghua.edu.cn/simple/\r\n",
      "Collecting beautifulsoup4\r\n",
      "  Downloading https://mirrors.aliyun.com/pypi/packages/57/f4/a69c20ee4f660081a7dedb1ac57f29be9378e04edfcb90c526b923d4bebc/beautifulsoup4-4.12.2-py3-none-any.whl (142 kB)\r\n",
      "\u001b[2K     \u001b[90m━━━━━━━━━━━━━━━━━━━━━━━━━━━━━━━━━━━━━\u001b[0m \u001b[32m143.0/143.0 kB\u001b[0m \u001b[31m727.6 kB/s\u001b[0m eta \u001b[36m0:00:00\u001b[0ma \u001b[36m0:00:01\u001b[0m\r\n",
      "\u001b[?25hCollecting soupsieve>1.2 (from beautifulsoup4)\r\n",
      "  Downloading https://mirrors.aliyun.com/pypi/packages/4c/f3/038b302fdfbe3be7da016777069f26ceefe11a681055ea1f7817546508e3/soupsieve-2.5-py3-none-any.whl (36 kB)\r\n",
      "Installing collected packages: soupsieve, beautifulsoup4\r\n",
      "Successfully installed beautifulsoup4-4.12.2 soupsieve-2.5\r\n",
      "\u001b[33mWARNING: Target directory /home/aistudio/external-libraries/beautifulsoup4-4.12.2.dist-info already exists. Specify --upgrade to force replacement.\u001b[0m\u001b[33m\r\n",
      "\u001b[0m\u001b[33mWARNING: Target directory /home/aistudio/external-libraries/bs4 already exists. Specify --upgrade to force replacement.\u001b[0m\u001b[33m\r\n",
      "\u001b[0m\u001b[33mWARNING: Target directory /home/aistudio/external-libraries/soupsieve already exists. Specify --upgrade to force replacement.\u001b[0m\u001b[33m\r\n",
      "\u001b[0m\u001b[33mWARNING: Target directory /home/aistudio/external-libraries/soupsieve-2.5.dist-info already exists. Specify --upgrade to force replacement.\u001b[0m\u001b[33m\r\n",
      "\u001b[0m"
     ]
    }
   ],
   "source": [
    "# 如果需要进行持久化安装, 需要使用持久化路径, 如下方代码示例:\n",
    "# If a persistence installation is required, \n",
    "# you need to use the persistence path as the following: \n",
    "!mkdir /home/aistudio/external-libraries\n",
    "!pip install beautifulsoup4 -t /home/aistudio/external-libraries"
   ]
  },
  {
   "cell_type": "code",
   "execution_count": 4,
   "metadata": {
    "collapsed": false,
    "execution": {
     "iopub.execute_input": "2023-10-11T06:23:41.629299Z",
     "iopub.status.busy": "2023-10-11T06:23:41.629019Z",
     "iopub.status.idle": "2023-10-11T06:23:41.634014Z",
     "shell.execute_reply": "2023-10-11T06:23:41.633290Z",
     "shell.execute_reply.started": "2023-10-11T06:23:41.629274Z"
    },
    "jupyter": {
     "outputs_hidden": false
    },
    "scrolled": true
   },
   "outputs": [],
   "source": [
    "# 同时添加如下代码, 这样每次环境(kernel)启动的时候只要运行下方代码即可: \n",
    "# Also add the following code, \n",
    "# so that every time the environment (kernel) starts, \n",
    "# just run the following code: \n",
    "import sys \n",
    "sys.path.append('/home/aistudio/external-libraries')"
   ]
  },
  {
   "cell_type": "markdown",
   "metadata": {},
   "source": [
    "请点击[此处](https://ai.baidu.com/docs#/AIStudio_Project_Notebook/a38e5576)查看本环境基本用法.  <br>\n",
    "Please click [here ](https://ai.baidu.com/docs#/AIStudio_Project_Notebook/a38e5576) for more detailed instructions. "
   ]
  },
  {
   "cell_type": "code",
   "execution_count": 5,
   "metadata": {
    "execution": {
     "iopub.execute_input": "2023-10-11T06:23:41.636769Z",
     "iopub.status.busy": "2023-10-11T06:23:41.636303Z",
     "iopub.status.idle": "2023-10-11T06:23:44.264302Z",
     "shell.execute_reply": "2023-10-11T06:23:44.263104Z",
     "shell.execute_reply.started": "2023-10-11T06:23:41.636746Z"
    },
    "scrolled": true
   },
   "outputs": [
    {
     "name": "stdout",
     "output_type": "stream",
     "text": [
      "Looking in indexes: https://mirror.baidu.com/pypi/simple/, https://mirrors.aliyun.com/pypi/simple/, https://pypi.tuna.tsinghua.edu.cn/simple/\r\n",
      "Collecting seaborn\r\n",
      "  Downloading https://mirrors.aliyun.com/pypi/packages/7b/e5/83fcd7e9db036c179e0352bfcd20f81d728197a16f883e7b90307a88e65e/seaborn-0.13.0-py3-none-any.whl (294 kB)\r\n",
      "\u001b[2K     \u001b[90m━━━━━━━━━━━━━━━━━━━━━━━━━━━━━━━━━━━━━━━\u001b[0m \u001b[32m294.6/294.6 kB\u001b[0m \u001b[31m1.2 MB/s\u001b[0m eta \u001b[36m0:00:00\u001b[0ma \u001b[36m0:00:01\u001b[0m\r\n",
      "\u001b[?25hRequirement already satisfied: numpy!=1.24.0,>=1.20 in /opt/conda/envs/python35-paddle120-env/lib/python3.10/site-packages (from seaborn) (1.25.1)\r\n",
      "Requirement already satisfied: pandas>=1.2 in /opt/conda/envs/python35-paddle120-env/lib/python3.10/site-packages (from seaborn) (2.0.3)\r\n",
      "Requirement already satisfied: matplotlib!=3.6.1,>=3.3 in /opt/conda/envs/python35-paddle120-env/lib/python3.10/site-packages (from seaborn) (3.7.2)\r\n",
      "Requirement already satisfied: contourpy>=1.0.1 in /opt/conda/envs/python35-paddle120-env/lib/python3.10/site-packages (from matplotlib!=3.6.1,>=3.3->seaborn) (1.1.0)\r\n",
      "Requirement already satisfied: cycler>=0.10 in /opt/conda/envs/python35-paddle120-env/lib/python3.10/site-packages (from matplotlib!=3.6.1,>=3.3->seaborn) (0.11.0)\r\n",
      "Requirement already satisfied: fonttools>=4.22.0 in /opt/conda/envs/python35-paddle120-env/lib/python3.10/site-packages (from matplotlib!=3.6.1,>=3.3->seaborn) (4.41.0)\r\n",
      "Requirement already satisfied: kiwisolver>=1.0.1 in /opt/conda/envs/python35-paddle120-env/lib/python3.10/site-packages (from matplotlib!=3.6.1,>=3.3->seaborn) (1.4.4)\r\n",
      "Requirement already satisfied: packaging>=20.0 in /opt/conda/envs/python35-paddle120-env/lib/python3.10/site-packages (from matplotlib!=3.6.1,>=3.3->seaborn) (23.1)\r\n",
      "Requirement already satisfied: pillow>=6.2.0 in /opt/conda/envs/python35-paddle120-env/lib/python3.10/site-packages (from matplotlib!=3.6.1,>=3.3->seaborn) (10.0.0)\r\n",
      "Requirement already satisfied: pyparsing<3.1,>=2.3.1 in /opt/conda/envs/python35-paddle120-env/lib/python3.10/site-packages (from matplotlib!=3.6.1,>=3.3->seaborn) (3.0.9)\r\n",
      "Requirement already satisfied: python-dateutil>=2.7 in /opt/conda/envs/python35-paddle120-env/lib/python3.10/site-packages (from matplotlib!=3.6.1,>=3.3->seaborn) (2.8.2)\r\n",
      "Requirement already satisfied: pytz>=2020.1 in /opt/conda/envs/python35-paddle120-env/lib/python3.10/site-packages (from pandas>=1.2->seaborn) (2023.3)\r\n",
      "Requirement already satisfied: tzdata>=2022.1 in /opt/conda/envs/python35-paddle120-env/lib/python3.10/site-packages (from pandas>=1.2->seaborn) (2023.3)\r\n",
      "Requirement already satisfied: six>=1.5 in /opt/conda/envs/python35-paddle120-env/lib/python3.10/site-packages (from python-dateutil>=2.7->matplotlib!=3.6.1,>=3.3->seaborn) (1.16.0)\r\n",
      "Installing collected packages: seaborn\r\n",
      "Successfully installed seaborn-0.13.0\r\n",
      "Note: you may need to restart the kernel to use updated packages.\r\n"
     ]
    }
   ],
   "source": [
    "pip install seaborn"
   ]
  },
  {
   "cell_type": "code",
   "execution_count": 6,
   "metadata": {
    "execution": {
     "iopub.execute_input": "2023-10-11T06:23:44.266122Z",
     "iopub.status.busy": "2023-10-11T06:23:44.265612Z",
     "iopub.status.idle": "2023-10-11T06:23:46.263562Z",
     "shell.execute_reply": "2023-10-11T06:23:46.262531Z",
     "shell.execute_reply.started": "2023-10-11T06:23:44.266094Z"
    },
    "scrolled": true,
    "tags": []
   },
   "outputs": [],
   "source": [
    "import numpy as np\n",
    "import pandas as pd\n",
    "import matplotlib.pyplot as plt\n",
    "import seaborn as sns"
   ]
  },
  {
   "cell_type": "code",
   "execution_count": 8,
   "metadata": {
    "execution": {
     "iopub.execute_input": "2023-10-11T06:24:09.056482Z",
     "iopub.status.busy": "2023-10-11T06:24:09.055741Z",
     "iopub.status.idle": "2023-10-11T06:24:09.064947Z",
     "shell.execute_reply": "2023-10-11T06:24:09.064196Z",
     "shell.execute_reply.started": "2023-10-11T06:24:09.056439Z"
    },
    "scrolled": true
   },
   "outputs": [],
   "source": [
    "df = pd.read_csv(r'data/data242605/train.csv')"
   ]
  },
  {
   "cell_type": "code",
   "execution_count": 9,
   "metadata": {
    "execution": {
     "iopub.execute_input": "2023-10-11T06:24:10.249113Z",
     "iopub.status.busy": "2023-10-11T06:24:10.248604Z",
     "iopub.status.idle": "2023-10-11T06:24:10.268606Z",
     "shell.execute_reply": "2023-10-11T06:24:10.267719Z",
     "shell.execute_reply.started": "2023-10-11T06:24:10.249082Z"
    },
    "scrolled": true,
    "tags": []
   },
   "outputs": [
    {
     "data": {
      "text/html": [
       "<div>\n",
       "<style scoped>\n",
       "    .dataframe tbody tr th:only-of-type {\n",
       "        vertical-align: middle;\n",
       "    }\n",
       "\n",
       "    .dataframe tbody tr th {\n",
       "        vertical-align: top;\n",
       "    }\n",
       "\n",
       "    .dataframe thead th {\n",
       "        text-align: right;\n",
       "    }\n",
       "</style>\n",
       "<table border=\"1\" class=\"dataframe\">\n",
       "  <thead>\n",
       "    <tr style=\"text-align: right;\">\n",
       "      <th></th>\n",
       "      <th>PassengerId</th>\n",
       "      <th>Survived</th>\n",
       "      <th>Pclass</th>\n",
       "      <th>Name</th>\n",
       "      <th>Sex</th>\n",
       "      <th>Age</th>\n",
       "      <th>SibSp</th>\n",
       "      <th>Parch</th>\n",
       "      <th>Ticket</th>\n",
       "      <th>Fare</th>\n",
       "      <th>Cabin</th>\n",
       "      <th>Embarked</th>\n",
       "    </tr>\n",
       "  </thead>\n",
       "  <tbody>\n",
       "    <tr>\n",
       "      <th>0</th>\n",
       "      <td>1</td>\n",
       "      <td>0</td>\n",
       "      <td>3</td>\n",
       "      <td>Braund, Mr. Owen Harris</td>\n",
       "      <td>male</td>\n",
       "      <td>22.0</td>\n",
       "      <td>1</td>\n",
       "      <td>0</td>\n",
       "      <td>A/5 21171</td>\n",
       "      <td>7.2500</td>\n",
       "      <td>NaN</td>\n",
       "      <td>S</td>\n",
       "    </tr>\n",
       "    <tr>\n",
       "      <th>1</th>\n",
       "      <td>2</td>\n",
       "      <td>1</td>\n",
       "      <td>1</td>\n",
       "      <td>Cumings, Mrs. John Bradley (Florence Briggs Th...</td>\n",
       "      <td>female</td>\n",
       "      <td>38.0</td>\n",
       "      <td>1</td>\n",
       "      <td>0</td>\n",
       "      <td>PC 17599</td>\n",
       "      <td>71.2833</td>\n",
       "      <td>C85</td>\n",
       "      <td>C</td>\n",
       "    </tr>\n",
       "    <tr>\n",
       "      <th>2</th>\n",
       "      <td>3</td>\n",
       "      <td>1</td>\n",
       "      <td>3</td>\n",
       "      <td>Heikkinen, Miss. Laina</td>\n",
       "      <td>female</td>\n",
       "      <td>26.0</td>\n",
       "      <td>0</td>\n",
       "      <td>0</td>\n",
       "      <td>STON/O2. 3101282</td>\n",
       "      <td>7.9250</td>\n",
       "      <td>NaN</td>\n",
       "      <td>S</td>\n",
       "    </tr>\n",
       "    <tr>\n",
       "      <th>3</th>\n",
       "      <td>4</td>\n",
       "      <td>1</td>\n",
       "      <td>1</td>\n",
       "      <td>Futrelle, Mrs. Jacques Heath (Lily May Peel)</td>\n",
       "      <td>female</td>\n",
       "      <td>35.0</td>\n",
       "      <td>1</td>\n",
       "      <td>0</td>\n",
       "      <td>113803</td>\n",
       "      <td>53.1000</td>\n",
       "      <td>C123</td>\n",
       "      <td>S</td>\n",
       "    </tr>\n",
       "    <tr>\n",
       "      <th>4</th>\n",
       "      <td>5</td>\n",
       "      <td>0</td>\n",
       "      <td>3</td>\n",
       "      <td>Allen, Mr. William Henry</td>\n",
       "      <td>male</td>\n",
       "      <td>35.0</td>\n",
       "      <td>0</td>\n",
       "      <td>0</td>\n",
       "      <td>373450</td>\n",
       "      <td>8.0500</td>\n",
       "      <td>NaN</td>\n",
       "      <td>S</td>\n",
       "    </tr>\n",
       "  </tbody>\n",
       "</table>\n",
       "</div>"
      ],
      "text/plain": [
       "   PassengerId  Survived  Pclass  \\\n",
       "0            1         0       3   \n",
       "1            2         1       1   \n",
       "2            3         1       3   \n",
       "3            4         1       1   \n",
       "4            5         0       3   \n",
       "\n",
       "                                                Name     Sex   Age  SibSp  \\\n",
       "0                            Braund, Mr. Owen Harris    male  22.0      1   \n",
       "1  Cumings, Mrs. John Bradley (Florence Briggs Th...  female  38.0      1   \n",
       "2                             Heikkinen, Miss. Laina  female  26.0      0   \n",
       "3       Futrelle, Mrs. Jacques Heath (Lily May Peel)  female  35.0      1   \n",
       "4                           Allen, Mr. William Henry    male  35.0      0   \n",
       "\n",
       "   Parch            Ticket     Fare Cabin Embarked  \n",
       "0      0         A/5 21171   7.2500   NaN        S  \n",
       "1      0          PC 17599  71.2833   C85        C  \n",
       "2      0  STON/O2. 3101282   7.9250   NaN        S  \n",
       "3      0            113803  53.1000  C123        S  \n",
       "4      0            373450   8.0500   NaN        S  "
      ]
     },
     "execution_count": 9,
     "metadata": {},
     "output_type": "execute_result"
    }
   ],
   "source": [
    "df.head()"
   ]
  },
  {
   "cell_type": "code",
   "execution_count": 10,
   "metadata": {
    "execution": {
     "iopub.execute_input": "2023-10-11T06:24:14.440248Z",
     "iopub.status.busy": "2023-10-11T06:24:14.439464Z",
     "iopub.status.idle": "2023-10-11T06:24:14.445569Z",
     "shell.execute_reply": "2023-10-11T06:24:14.444878Z",
     "shell.execute_reply.started": "2023-10-11T06:24:14.440216Z"
    },
    "scrolled": true
   },
   "outputs": [
    {
     "data": {
      "text/plain": [
       "['PassengerId',\n",
       " 'Survived',\n",
       " 'Pclass',\n",
       " 'Name',\n",
       " 'Sex',\n",
       " 'Age',\n",
       " 'SibSp',\n",
       " 'Parch',\n",
       " 'Ticket',\n",
       " 'Fare',\n",
       " 'Cabin',\n",
       " 'Embarked']"
      ]
     },
     "execution_count": 10,
     "metadata": {},
     "output_type": "execute_result"
    }
   ],
   "source": [
    "df.columns.tolist()"
   ]
  },
  {
   "cell_type": "code",
   "execution_count": 11,
   "metadata": {
    "execution": {
     "iopub.execute_input": "2023-10-11T06:24:16.233086Z",
     "iopub.status.busy": "2023-10-11T06:24:16.232125Z",
     "iopub.status.idle": "2023-10-11T06:24:16.240702Z",
     "shell.execute_reply": "2023-10-11T06:24:16.239941Z",
     "shell.execute_reply.started": "2023-10-11T06:24:16.233051Z"
    },
    "scrolled": true
   },
   "outputs": [
    {
     "data": {
      "text/plain": [
       "PassengerId      0\n",
       "Survived         0\n",
       "Pclass           0\n",
       "Name             0\n",
       "Sex              0\n",
       "Age            177\n",
       "SibSp            0\n",
       "Parch            0\n",
       "Ticket           0\n",
       "Fare             0\n",
       "Cabin          687\n",
       "Embarked         2\n",
       "dtype: int64"
      ]
     },
     "execution_count": 11,
     "metadata": {},
     "output_type": "execute_result"
    }
   ],
   "source": [
    "df.isnull().sum()"
   ]
  },
  {
   "cell_type": "code",
   "execution_count": 12,
   "metadata": {
    "execution": {
     "iopub.execute_input": "2023-10-11T06:24:17.908605Z",
     "iopub.status.busy": "2023-10-11T06:24:17.907657Z",
     "iopub.status.idle": "2023-10-11T06:24:17.917393Z",
     "shell.execute_reply": "2023-10-11T06:24:17.916652Z",
     "shell.execute_reply.started": "2023-10-11T06:24:17.908565Z"
    },
    "scrolled": true
   },
   "outputs": [],
   "source": [
    "for i in ['PassengerId', 'Name', 'Ticket', 'Embarked', 'Pclass', 'Cabin']:\n",
    "    df.drop(i, axis=1, inplace=True)\n"
   ]
  },
  {
   "cell_type": "code",
   "execution_count": 13,
   "metadata": {
    "execution": {
     "iopub.execute_input": "2023-10-11T06:24:21.020950Z",
     "iopub.status.busy": "2023-10-11T06:24:21.020554Z",
     "iopub.status.idle": "2023-10-11T06:24:21.031537Z",
     "shell.execute_reply": "2023-10-11T06:24:21.030832Z",
     "shell.execute_reply.started": "2023-10-11T06:24:21.020922Z"
    },
    "scrolled": true
   },
   "outputs": [
    {
     "data": {
      "text/html": [
       "<div>\n",
       "<style scoped>\n",
       "    .dataframe tbody tr th:only-of-type {\n",
       "        vertical-align: middle;\n",
       "    }\n",
       "\n",
       "    .dataframe tbody tr th {\n",
       "        vertical-align: top;\n",
       "    }\n",
       "\n",
       "    .dataframe thead th {\n",
       "        text-align: right;\n",
       "    }\n",
       "</style>\n",
       "<table border=\"1\" class=\"dataframe\">\n",
       "  <thead>\n",
       "    <tr style=\"text-align: right;\">\n",
       "      <th></th>\n",
       "      <th>Survived</th>\n",
       "      <th>Sex</th>\n",
       "      <th>Age</th>\n",
       "      <th>SibSp</th>\n",
       "      <th>Parch</th>\n",
       "      <th>Fare</th>\n",
       "    </tr>\n",
       "  </thead>\n",
       "  <tbody>\n",
       "    <tr>\n",
       "      <th>0</th>\n",
       "      <td>0</td>\n",
       "      <td>male</td>\n",
       "      <td>22.0</td>\n",
       "      <td>1</td>\n",
       "      <td>0</td>\n",
       "      <td>7.2500</td>\n",
       "    </tr>\n",
       "    <tr>\n",
       "      <th>1</th>\n",
       "      <td>1</td>\n",
       "      <td>female</td>\n",
       "      <td>38.0</td>\n",
       "      <td>1</td>\n",
       "      <td>0</td>\n",
       "      <td>71.2833</td>\n",
       "    </tr>\n",
       "    <tr>\n",
       "      <th>2</th>\n",
       "      <td>1</td>\n",
       "      <td>female</td>\n",
       "      <td>26.0</td>\n",
       "      <td>0</td>\n",
       "      <td>0</td>\n",
       "      <td>7.9250</td>\n",
       "    </tr>\n",
       "    <tr>\n",
       "      <th>3</th>\n",
       "      <td>1</td>\n",
       "      <td>female</td>\n",
       "      <td>35.0</td>\n",
       "      <td>1</td>\n",
       "      <td>0</td>\n",
       "      <td>53.1000</td>\n",
       "    </tr>\n",
       "    <tr>\n",
       "      <th>4</th>\n",
       "      <td>0</td>\n",
       "      <td>male</td>\n",
       "      <td>35.0</td>\n",
       "      <td>0</td>\n",
       "      <td>0</td>\n",
       "      <td>8.0500</td>\n",
       "    </tr>\n",
       "  </tbody>\n",
       "</table>\n",
       "</div>"
      ],
      "text/plain": [
       "   Survived     Sex   Age  SibSp  Parch     Fare\n",
       "0         0    male  22.0      1      0   7.2500\n",
       "1         1  female  38.0      1      0  71.2833\n",
       "2         1  female  26.0      0      0   7.9250\n",
       "3         1  female  35.0      1      0  53.1000\n",
       "4         0    male  35.0      0      0   8.0500"
      ]
     },
     "execution_count": 13,
     "metadata": {},
     "output_type": "execute_result"
    }
   ],
   "source": [
    "df.head()"
   ]
  },
  {
   "cell_type": "code",
   "execution_count": 15,
   "metadata": {
    "execution": {
     "iopub.execute_input": "2023-10-11T06:24:41.421837Z",
     "iopub.status.busy": "2023-10-11T06:24:41.420982Z",
     "iopub.status.idle": "2023-10-11T06:24:41.427858Z",
     "shell.execute_reply": "2023-10-11T06:24:41.427024Z",
     "shell.execute_reply.started": "2023-10-11T06:24:41.421802Z"
    },
    "scrolled": true,
    "tags": []
   },
   "outputs": [],
   "source": [
    "df.dropna(inplace=True)"
   ]
  },
  {
   "cell_type": "code",
   "execution_count": 16,
   "metadata": {
    "execution": {
     "iopub.execute_input": "2023-10-11T06:24:42.623407Z",
     "iopub.status.busy": "2023-10-11T06:24:42.622897Z",
     "iopub.status.idle": "2023-10-11T06:24:42.631005Z",
     "shell.execute_reply": "2023-10-11T06:24:42.630239Z",
     "shell.execute_reply.started": "2023-10-11T06:24:42.623377Z"
    },
    "scrolled": true
   },
   "outputs": [
    {
     "data": {
      "text/plain": [
       "Survived    0\n",
       "Sex         0\n",
       "Age         0\n",
       "SibSp       0\n",
       "Parch       0\n",
       "Fare        0\n",
       "dtype: int64"
      ]
     },
     "execution_count": 16,
     "metadata": {},
     "output_type": "execute_result"
    }
   ],
   "source": [
    "df.isnull().sum()"
   ]
  },
  {
   "cell_type": "code",
   "execution_count": 17,
   "metadata": {
    "execution": {
     "iopub.execute_input": "2023-10-11T06:24:45.386088Z",
     "iopub.status.busy": "2023-10-11T06:24:45.385153Z",
     "iopub.status.idle": "2023-10-11T06:24:45.396548Z",
     "shell.execute_reply": "2023-10-11T06:24:45.395688Z",
     "shell.execute_reply.started": "2023-10-11T06:24:45.386046Z"
    },
    "scrolled": true
   },
   "outputs": [
    {
     "data": {
      "text/html": [
       "<div>\n",
       "<style scoped>\n",
       "    .dataframe tbody tr th:only-of-type {\n",
       "        vertical-align: middle;\n",
       "    }\n",
       "\n",
       "    .dataframe tbody tr th {\n",
       "        vertical-align: top;\n",
       "    }\n",
       "\n",
       "    .dataframe thead th {\n",
       "        text-align: right;\n",
       "    }\n",
       "</style>\n",
       "<table border=\"1\" class=\"dataframe\">\n",
       "  <thead>\n",
       "    <tr style=\"text-align: right;\">\n",
       "      <th></th>\n",
       "      <th>Survived</th>\n",
       "      <th>Sex</th>\n",
       "      <th>Age</th>\n",
       "      <th>SibSp</th>\n",
       "      <th>Parch</th>\n",
       "      <th>Fare</th>\n",
       "    </tr>\n",
       "  </thead>\n",
       "  <tbody>\n",
       "    <tr>\n",
       "      <th>0</th>\n",
       "      <td>0</td>\n",
       "      <td>male</td>\n",
       "      <td>22.0</td>\n",
       "      <td>1</td>\n",
       "      <td>0</td>\n",
       "      <td>7.2500</td>\n",
       "    </tr>\n",
       "    <tr>\n",
       "      <th>1</th>\n",
       "      <td>1</td>\n",
       "      <td>female</td>\n",
       "      <td>38.0</td>\n",
       "      <td>1</td>\n",
       "      <td>0</td>\n",
       "      <td>71.2833</td>\n",
       "    </tr>\n",
       "    <tr>\n",
       "      <th>2</th>\n",
       "      <td>1</td>\n",
       "      <td>female</td>\n",
       "      <td>26.0</td>\n",
       "      <td>0</td>\n",
       "      <td>0</td>\n",
       "      <td>7.9250</td>\n",
       "    </tr>\n",
       "    <tr>\n",
       "      <th>3</th>\n",
       "      <td>1</td>\n",
       "      <td>female</td>\n",
       "      <td>35.0</td>\n",
       "      <td>1</td>\n",
       "      <td>0</td>\n",
       "      <td>53.1000</td>\n",
       "    </tr>\n",
       "    <tr>\n",
       "      <th>4</th>\n",
       "      <td>0</td>\n",
       "      <td>male</td>\n",
       "      <td>35.0</td>\n",
       "      <td>0</td>\n",
       "      <td>0</td>\n",
       "      <td>8.0500</td>\n",
       "    </tr>\n",
       "  </tbody>\n",
       "</table>\n",
       "</div>"
      ],
      "text/plain": [
       "   Survived     Sex   Age  SibSp  Parch     Fare\n",
       "0         0    male  22.0      1      0   7.2500\n",
       "1         1  female  38.0      1      0  71.2833\n",
       "2         1  female  26.0      0      0   7.9250\n",
       "3         1  female  35.0      1      0  53.1000\n",
       "4         0    male  35.0      0      0   8.0500"
      ]
     },
     "execution_count": 17,
     "metadata": {},
     "output_type": "execute_result"
    }
   ],
   "source": [
    "df.head()"
   ]
  },
  {
   "cell_type": "code",
   "execution_count": 18,
   "metadata": {
    "execution": {
     "iopub.execute_input": "2023-10-11T06:24:50.057974Z",
     "iopub.status.busy": "2023-10-11T06:24:50.057008Z",
     "iopub.status.idle": "2023-10-11T06:24:50.064856Z",
     "shell.execute_reply": "2023-10-11T06:24:50.064018Z",
     "shell.execute_reply.started": "2023-10-11T06:24:50.057938Z"
    },
    "scrolled": true
   },
   "outputs": [],
   "source": [
    "df = pd.get_dummies(df)"
   ]
  },
  {
   "cell_type": "code",
   "execution_count": 19,
   "metadata": {
    "execution": {
     "iopub.execute_input": "2023-10-11T06:24:56.803415Z",
     "iopub.status.busy": "2023-10-11T06:24:56.802810Z",
     "iopub.status.idle": "2023-10-11T06:24:56.809335Z",
     "shell.execute_reply": "2023-10-11T06:24:56.808311Z",
     "shell.execute_reply.started": "2023-10-11T06:24:56.803382Z"
    },
    "scrolled": true
   },
   "outputs": [],
   "source": [
    "y = df['Survived']\n",
    "x = df.drop('Survived', axis=1)"
   ]
  },
  {
   "cell_type": "code",
   "execution_count": 33,
   "metadata": {
    "execution": {
     "iopub.execute_input": "2023-10-11T06:29:05.069032Z",
     "iopub.status.busy": "2023-10-11T06:29:05.067942Z",
     "iopub.status.idle": "2023-10-11T06:29:05.075358Z",
     "shell.execute_reply": "2023-10-11T06:29:05.074542Z",
     "shell.execute_reply.started": "2023-10-11T06:29:05.069000Z"
    },
    "scrolled": true,
    "tags": []
   },
   "outputs": [],
   "source": [
    "from sklearn.model_selection import train_test_split\n",
    "\n",
    "x_train, x_test, y_train, y_test = train_test_split(x, y, test_size=0.2, random_state=12)"
   ]
  },
  {
   "cell_type": "code",
   "execution_count": 38,
   "metadata": {
    "execution": {
     "iopub.execute_input": "2023-10-11T06:32:41.425233Z",
     "iopub.status.busy": "2023-10-11T06:32:41.424423Z",
     "iopub.status.idle": "2023-10-11T06:32:41.435654Z",
     "shell.execute_reply": "2023-10-11T06:32:41.434797Z",
     "shell.execute_reply.started": "2023-10-11T06:32:41.425201Z"
    },
    "scrolled": true,
    "tags": []
   },
   "outputs": [
    {
     "data": {
      "text/plain": [
       "<bound method DataFrame.info of       Age  SibSp  Parch      Fare  Sex_female  Sex_male\n",
       "550  17.0      0      2  110.8833       False      True\n",
       "43    3.0      1      2   41.5792        True     False\n",
       "59   11.0      5      2   46.9000       False      True\n",
       "802  11.0      1      2  120.0000       False      True\n",
       "318  31.0      0      2  164.8667        True     False\n",
       "..    ...    ...    ...       ...         ...       ...\n",
       "805  31.0      0      0    7.7750       False      True\n",
       "299  50.0      0      1  247.5208        True     False\n",
       "316  24.0      1      0   26.0000        True     False\n",
       "489   9.0      1      1   15.9000       False      True\n",
       "835  39.0      1      1   83.1583        True     False\n",
       "\n",
       "[571 rows x 6 columns]>"
      ]
     },
     "execution_count": 38,
     "metadata": {},
     "output_type": "execute_result"
    }
   ],
   "source": [
    "x_train.info"
   ]
  },
  {
   "cell_type": "code",
   "execution_count": 40,
   "metadata": {
    "execution": {
     "iopub.execute_input": "2023-10-11T06:33:06.613615Z",
     "iopub.status.busy": "2023-10-11T06:33:06.612836Z",
     "iopub.status.idle": "2023-10-11T06:33:06.620761Z",
     "shell.execute_reply": "2023-10-11T06:33:06.619724Z",
     "shell.execute_reply.started": "2023-10-11T06:33:06.613580Z"
    },
    "scrolled": true,
    "tags": []
   },
   "outputs": [
    {
     "data": {
      "text/plain": [
       "<bound method Series.info of 550    1\n",
       "43     1\n",
       "59     0\n",
       "802    1\n",
       "318    1\n",
       "      ..\n",
       "805    0\n",
       "299    1\n",
       "316    1\n",
       "489    1\n",
       "835    1\n",
       "Name: Survived, Length: 571, dtype: int64>"
      ]
     },
     "execution_count": 40,
     "metadata": {},
     "output_type": "execute_result"
    }
   ],
   "source": [
    "y_train.info"
   ]
  },
  {
   "cell_type": "code",
   "execution_count": 47,
   "metadata": {
    "execution": {
     "iopub.execute_input": "2023-10-11T06:39:53.907584Z",
     "iopub.status.busy": "2023-10-11T06:39:53.906353Z",
     "iopub.status.idle": "2023-10-11T06:39:53.913231Z",
     "shell.execute_reply": "2023-10-11T06:39:53.912348Z",
     "shell.execute_reply.started": "2023-10-11T06:39:53.907542Z"
    },
    "scrolled": true,
    "tags": []
   },
   "outputs": [],
   "source": [
    "from sklearn.metrics import r2_score,mean_absolute_error,mean_squared_error\n",
    "\n",
    "def predict(ml_model):\n",
    "    print(\"Model is: \", ml_model)\n",
    "    \n",
    "    model = ml_model.fit(x_train, y_train)\n",
    "    \n",
    "    print(\"Training score: \", model.score(x_train,y_train))\n",
    "    \n",
    "    predictions = model.predict(x_test)\n",
    "    print(\"Predictions: \", predictions)\n",
    "    print('-----------------')\n",
    "    r2score = r2_score(y_test, predictions)\n",
    "    print(\"r2 score is: \", r2score)\n",
    "    \n",
    "    print('MAE:{}', mean_absolute_error(y_test,predictions))\n",
    "    print('MSE:{}', mean_squared_error(y_test,predictions))\n",
    "    print('RMSE:{}', np.sqrt(mean_squared_error(y_test,predictions)))\n",
    "    print('真实值和预测值的差值{}', y_test - predictions)\n"
   ]
  },
  {
   "cell_type": "code",
   "execution_count": 24,
   "metadata": {
    "execution": {
     "iopub.execute_input": "2023-10-11T06:25:59.756007Z",
     "iopub.status.busy": "2023-10-11T06:25:59.755583Z",
     "iopub.status.idle": "2023-10-11T06:25:59.833294Z",
     "shell.execute_reply": "2023-10-11T06:25:59.832241Z",
     "shell.execute_reply.started": "2023-10-11T06:25:59.755978Z"
    },
    "scrolled": true
   },
   "outputs": [],
   "source": [
    "# 逻辑回归\n",
    "from sklearn.linear_model import LogisticRegression   \n",
    "# k近邻回归\n",
    "from sklearn.neighbors import KNeighborsRegressor  \n",
    "# 决策树回归\n",
    "from sklearn.tree import DecisionTreeRegressor  \n",
    "# 梯度提升回归，随机森林回归\n",
    "from sklearn.ensemble import GradientBoostingRegressor,RandomForestRegressor  "
   ]
  },
  {
   "cell_type": "code",
   "execution_count": 50,
   "metadata": {
    "execution": {
     "iopub.execute_input": "2023-10-11T06:40:39.871627Z",
     "iopub.status.busy": "2023-10-11T06:40:39.870555Z",
     "iopub.status.idle": "2023-10-11T06:40:40.055837Z",
     "shell.execute_reply": "2023-10-11T06:40:40.055021Z",
     "shell.execute_reply.started": "2023-10-11T06:40:39.871594Z"
    },
    "scrolled": true,
    "tags": []
   },
   "outputs": [
    {
     "name": "stdout",
     "output_type": "stream",
     "text": [
      "Model is:  RandomForestRegressor()\r\n",
      "Training score:  0.8851757060694474\r\n",
      "Predictions:  [0.2        0.02       0.09       0.19       0.61       0.03\r\n",
      " 0.65       0.47       0.035      0.63       0.47       0.66\r\n",
      " 0.85       0.         0.0175     1.         1.         0.53771429\r\n",
      " 0.         0.92       0.04       0.38       1.         0.074\r\n",
      " 0.93       0.05       0.95       0.47       1.         0.\r\n",
      " 0.         0.87       0.29       0.         0.16       0.35\r\n",
      " 0.12       0.42       0.16       1.         0.07       0.15\r\n",
      " 0.9        0.         1.         0.15       0.06       0.23\r\n",
      " 1.         0.03       0.07       0.05       0.         0.02142857\r\n",
      " 0.18866667 0.08       0.7725     0.19183333 0.08908333 0.32\r\n",
      " 0.09       0.7455     0.17333333 0.21       0.05       0.04\r\n",
      " 0.57333333 1.         0.13994048 0.37       0.95       1.\r\n",
      " 0.43       0.4        0.07       0.4        0.02       0.1\r\n",
      " 0.12633333 0.32978571 0.99       0.00142857 0.02833333 0.96\r\n",
      " 0.015      0.94       0.03       0.43       0.13       0.88\r\n",
      " 0.51       0.97       0.06       0.0175     0.23       0.41\r\n",
      " 0.99       0.99       0.21       1.         0.08       0.03\r\n",
      " 0.33383333 0.29333333 0.82       0.         1.         0.08166667\r\n",
      " 0.24       0.015      0.64       0.015      0.         0.06083333\r\n",
      " 0.47       0.13       0.02       0.62       0.945      0.94\r\n",
      " 0.57       0.75       0.35966667 0.91       0.45       1.\r\n",
      " 0.03       0.44       0.12       0.6        0.01       0.54\r\n",
      " 1.         1.         0.         0.59       0.         0.15\r\n",
      " 1.         0.10333333 0.25       0.91       0.2       ]\r\n",
      "-----------------\r\n",
      "r2 score is:  0.44405425826754275\r\n",
      "MAE:{} 0.23697985347985345\r\n",
      "MSE:{} 0.13327038123979196\r\n",
      "RMSE:{} 0.3650621607888059\r\n",
      "真实值和预测值的差值{} 830    0.800000\r\n",
      "478   -0.020000\r\n",
      "12    -0.090000\r\n",
      "625   -0.190000\r\n",
      "690    0.390000\r\n",
      "         ...   \r\n",
      "879    0.000000\r\n",
      "146    0.896667\r\n",
      "54    -0.250000\r\n",
      "426    0.090000\r\n",
      "142    0.800000\r\n",
      "Name: Survived, Length: 143, dtype: float64\r\n"
     ]
    }
   ],
   "source": [
    "predict(RandomForestRegressor())"
   ]
  },
  {
   "cell_type": "code",
   "execution_count": null,
   "metadata": {
    "scrolled": true
   },
   "outputs": [],
   "source": []
  }
 ],
 "metadata": {
  "kernelspec": {
   "display_name": "Python 3",
   "language": "python",
   "name": "py35-paddle1.2.0"
  },
  "language_info": {
   "codemirror_mode": {
    "name": "ipython",
    "version": 3
   },
   "file_extension": ".py",
   "mimetype": "text/x-python",
   "name": "python",
   "nbconvert_exporter": "python",
   "pygments_lexer": "ipython3",
   "version": "3.10.10"
  }
 },
 "nbformat": 4,
 "nbformat_minor": 4
}
